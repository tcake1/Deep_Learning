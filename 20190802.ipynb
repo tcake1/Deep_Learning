{
 "cells": [
  {
   "cell_type": "markdown",
   "metadata": {},
   "source": [
    "# CNN 간단 복습"
   ]
  },
  {
   "cell_type": "markdown",
   "metadata": {},
   "source": [
    "32x32x3 image, 3x3 filter의 파라미터는? "
   ]
  },
  {
   "cell_type": "markdown",
   "metadata": {},
   "source": [
    "# GAN"
   ]
  },
  {
   "cell_type": "markdown",
   "metadata": {},
   "source": [
    "## Machine Learning 종류"
   ]
  },
  {
   "cell_type": "markdown",
   "metadata": {},
   "source": [
    "### Supervised Learning\n",
    "- fully supervised learning: 모든 픽셀마다 label을 줌, input에 대한 segmentation mask를 픽셀마다 줌\n",
    "- weakly supervised learning: 픽셀 level이 아닌 image level의 labeling\n",
    "- self-supervised learning: 예를 들어 이미지를 돌려서 얼마나 돌렸는지 알아내는 것\n",
    "- semi-supervised learning: 일부에 labeling을 주고 나머지는 label 없이 unsupervised처럼 학습\n",
    "\n",
    "### Unsupervised Learning\n",
    "- 성능이 안 좋아도 허용됨\n",
    "- GAN\n",
    "\n",
    "### Reinforcement Learning"
   ]
  },
  {
   "cell_type": "markdown",
   "metadata": {},
   "source": [
    "## Probability Distribution\n",
    "\n",
    "- P_model을 P_data에 근사하고 싶은 것이 목표\n",
    "- 실제 분포는 우리가 갖고 있는 이미지 셋에 따라 달라진다. (e.g. 흑발 남성의 비율이 금발 여자보다 적으면 금발 여성의 그래프가 더 높게 나온다.)"
   ]
  },
  {
   "cell_type": "markdown",
   "metadata": {},
   "source": [
    "## GAN Intuition\n",
    "\n",
    "- discriminator: real image를 보고 진짜임을 학습함, fake를 보고 fake임을 알도록 학습, loss를 줄 수 있는 유일한 부분\n",
    "- generator: discriminator가 최대한 진짜라고 내뱉도록 학습\n",
    "- discriminator은 neural network(torch.nn.Module)\n",
    "- stage는 discrimator을 학습하는 부분과 generator을 학습시키는 부분으로 나뉨"
   ]
  },
  {
   "cell_type": "markdown",
   "metadata": {},
   "source": [
    "## GAN Objective Function\n",
    "\n",
    "- discriminator가 1로 가도록, D(x)가 1일 때 최대\n",
    "- 뒷 부분은 0일 때 최대가 된다.\n",
    "- 앞부분은 진짜, 뒷부분은 가짜임을 알리는 부분"
   ]
  },
  {
   "cell_type": "markdown",
   "metadata": {},
   "source": [
    "## GAN Pytorch\n",
    "\n",
    "- d를 업데이트할 땐 d의 파라미터만\n",
    "- g를 업데이트할 땐 g의 파라미터만\n",
    "- criterion(D(G(z).detach()))해도 된다. detach는 grediant 안 흐르도록 하는것"
   ]
  },
  {
   "cell_type": "markdown",
   "metadata": {},
   "source": [
    "## DCGAN\n",
    "\n",
    "### Latent vector arithmetic\n",
    "\n",
    "- word embedding처럼 의미론적인 구조가 있는 것"
   ]
  },
  {
   "cell_type": "markdown",
   "metadata": {},
   "source": [
    "## Progressive GAN\n",
    "\n",
    "- 4x4까지 줄인다음에 해당 사이즈에 맞는 discriminator가 모두 있어서 조금씩 늘려가면서 생성\n",
    "- 고해상도에서 함\n",
    "\n",
    "## CGAN\n",
    "\n",
    "- condition을 같이 줘서 generator에 클래스도 같이 준다. \n",
    "- 추가적인 제어가 들어간다."
   ]
  },
  {
   "cell_type": "markdown",
   "metadata": {},
   "source": [
    "# Extensions of GAN\n",
    "\n",
    "이전까지 한 것을 pure GAN이라고 한다."
   ]
  },
  {
   "cell_type": "markdown",
   "metadata": {},
   "source": [
    "## Image Translation\n",
    "\n",
    "- semantic한 mearning은 유지되지만 domain은 달라져서 표혀방식이 달라진다.\n",
    "- 좀 더 쉬운 task"
   ]
  },
  {
   "cell_type": "markdown",
   "metadata": {},
   "source": [
    "## CycleGAN\n",
    "\n",
    "- unpaired\n",
    "- e.g. 얼룩말 - 말\n",
    "- pure GAN은 처음 인풋이 그냥 random noise Z가 들어갔다.\n",
    "- 여기서는 얼룩말을 encoding한 다음 다시 decode\n",
    "- decode로 나온 fake image와 real image로 loss를 구한다. 여기서 real-fake는 pair가 아니고 단지 도메인만 같은 것\n",
    "- loss를 구하고 다시 원래 이미지로 되돌려줌(G_AB - G_BA)\n",
    "- G_AB와 G_BA는 서로 완전히 다른 네트워크"
   ]
  },
  {
   "cell_type": "markdown",
   "metadata": {},
   "source": [
    "## Text2Image\n",
    "\n",
    "- sentence embedding; word embedding의 평균이라고 생각하면 된다. 조금은 다르지만\n",
    "- 이렇게 나온 의미를 갖고 image 생성\n",
    "- fake image와 right text를 줘서 이미지와 텍스트가 일치하는지\n",
    "- real image와 fake text"
   ]
  },
  {
   "cell_type": "markdown",
   "metadata": {},
   "source": [
    "## StackGAN\n",
    "\n",
    "- sentence embedding을 mean, var로 뽑아냄\n",
    "- 저해상도 먼저 text로부터 generate하고 다시 인풋으로 넣어줌\n",
    "- discriminator에서 이미지와 sentence concat 해서 loss 구함\n",
    "- PGAN과 동일"
   ]
  },
  {
   "cell_type": "markdown",
   "metadata": {},
   "source": [
    "## StartGAN\n",
    "\n",
    "- "
   ]
  },
  {
   "cell_type": "code",
   "execution_count": null,
   "metadata": {},
   "outputs": [],
   "source": []
  }
 ],
 "metadata": {
  "kernelspec": {
   "display_name": "Python 3",
   "language": "python",
   "name": "python3"
  },
  "language_info": {
   "codemirror_mode": {
    "name": "ipython",
    "version": 3
   },
   "file_extension": ".py",
   "mimetype": "text/x-python",
   "name": "python",
   "nbconvert_exporter": "python",
   "pygments_lexer": "ipython3",
   "version": "3.6.8"
  }
 },
 "nbformat": 4,
 "nbformat_minor": 2
}
